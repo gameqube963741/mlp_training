{
  "nbformat": 4,
  "nbformat_minor": 0,
  "metadata": {
    "colab": {
      "name": "Mnist_save_Model.ipynb",
      "provenance": [],
      "collapsed_sections": [],
      "authorship_tag": "ABX9TyMMjTL1IGVh7qpFFowhBOSm",
      "include_colab_link": true
    },
    "kernelspec": {
      "name": "python3",
      "display_name": "Python 3"
    }
  },
  "cells": [
    {
      "cell_type": "markdown",
      "metadata": {
        "id": "view-in-github",
        "colab_type": "text"
      },
      "source": [
        "<a href=\"https://colab.research.google.com/github/gameqube963741/mlp_training/blob/master/Mnist_save_Model.ipynb\" target=\"_parent\"><img src=\"https://colab.research.google.com/assets/colab-badge.svg\" alt=\"Open In Colab\"/></a>"
      ]
    },
    {
      "cell_type": "code",
      "metadata": {
        "id": "myuL9g0I8MB5",
        "colab_type": "code",
        "colab": {}
      },
      "source": [
        "import numpy as np\n",
        "from keras.utils import np_utils\n",
        "np.random.seed(10)\n",
        "from keras.datasets import mnist\n",
        "from keras.models import Sequential\n",
        "from keras.layers import Dense"
      ],
      "execution_count": 1,
      "outputs": []
    },
    {
      "cell_type": "code",
      "metadata": {
        "id": "1x_DY62N8YBE",
        "colab_type": "code",
        "colab": {
          "base_uri": "https://localhost:8080/",
          "height": 51
        },
        "outputId": "fc47de25-1e02-4740-ae6b-7cf65084284d"
      },
      "source": [
        "(train_feature, train_label), (test_feature, test_label) = mnist.load_data()\n",
        "train_feature_vector =train_feature.reshape(len(train_feature), 784).astype('float32')\n",
        "test_feature_vector = test_feature.reshape(len( test_feature), 784).astype('float32')\n",
        "train_feature_normalize = train_feature_vector/255\n",
        "test_feature_normalize = test_feature_vector/255\n",
        "train_label_onehot = np_utils.to_categorical(train_label)\n",
        "test_label_onehot = np_utils.to_categorical(test_label)"
      ],
      "execution_count": 2,
      "outputs": [
        {
          "output_type": "stream",
          "text": [
            "Downloading data from https://storage.googleapis.com/tensorflow/tf-keras-datasets/mnist.npz\n",
            "11493376/11490434 [==============================] - 0s 0us/step\n"
          ],
          "name": "stdout"
        }
      ]
    },
    {
      "cell_type": "code",
      "metadata": {
        "id": "ogjKHDAo8YEX",
        "colab_type": "code",
        "colab": {}
      },
      "source": [
        "model = Sequential()  #建立模型"
      ],
      "execution_count": 3,
      "outputs": []
    },
    {
      "cell_type": "code",
      "metadata": {
        "id": "FcbR5wNS8YGv",
        "colab_type": "code",
        "colab": {}
      },
      "source": [
        "model.add(Dense(units=256,  #輸入層：784, 隱藏層：256\n",
        "                input_dim=784, \n",
        "                kernel_initializer='normal', \n",
        "                activation='relu')) "
      ],
      "execution_count": 4,
      "outputs": []
    },
    {
      "cell_type": "code",
      "metadata": {
        "id": "atZRr2n88eoX",
        "colab_type": "code",
        "colab": {}
      },
      "source": [
        "model.add(Dense(units=10,  #輸出層：10\n",
        "                kernel_initializer='normal', \n",
        "                activation='softmax'))"
      ],
      "execution_count": 5,
      "outputs": []
    },
    {
      "cell_type": "code",
      "metadata": {
        "id": "9QfgNQO08et_",
        "colab_type": "code",
        "colab": {}
      },
      "source": [
        "model.compile(loss='categorical_crossentropy', \n",
        "              optimizer='adam', metrics=['accuracy'])"
      ],
      "execution_count": 6,
      "outputs": []
    },
    {
      "cell_type": "code",
      "metadata": {
        "id": "TDVPqkw78e1T",
        "colab_type": "code",
        "colab": {
          "base_uri": "https://localhost:8080/",
          "height": 374
        },
        "outputId": "3f56d8c3-f1ae-4d7f-febd-5d8bb67ab22a"
      },
      "source": [
        "model.fit(x=train_feature_normalize, y=train_label_onehot,\n",
        "          validation_split=0.2, epochs=10, batch_size=200,verbose=2)"
      ],
      "execution_count": 7,
      "outputs": [
        {
          "output_type": "stream",
          "text": [
            "Epoch 1/10\n",
            "240/240 - 2s - loss: 0.4348 - accuracy: 0.8856 - val_loss: 0.2183 - val_accuracy: 0.9387\n",
            "Epoch 2/10\n",
            "240/240 - 1s - loss: 0.1902 - accuracy: 0.9450 - val_loss: 0.1601 - val_accuracy: 0.9553\n",
            "Epoch 3/10\n",
            "240/240 - 1s - loss: 0.1342 - accuracy: 0.9614 - val_loss: 0.1336 - val_accuracy: 0.9613\n",
            "Epoch 4/10\n",
            "240/240 - 1s - loss: 0.1016 - accuracy: 0.9712 - val_loss: 0.1095 - val_accuracy: 0.9669\n",
            "Epoch 5/10\n",
            "240/240 - 1s - loss: 0.0813 - accuracy: 0.9768 - val_loss: 0.0997 - val_accuracy: 0.9699\n",
            "Epoch 6/10\n",
            "240/240 - 1s - loss: 0.0658 - accuracy: 0.9821 - val_loss: 0.0957 - val_accuracy: 0.9707\n",
            "Epoch 7/10\n",
            "240/240 - 1s - loss: 0.0550 - accuracy: 0.9848 - val_loss: 0.0857 - val_accuracy: 0.9742\n",
            "Epoch 8/10\n",
            "240/240 - 1s - loss: 0.0450 - accuracy: 0.9878 - val_loss: 0.0870 - val_accuracy: 0.9741\n",
            "Epoch 9/10\n",
            "240/240 - 1s - loss: 0.0386 - accuracy: 0.9898 - val_loss: 0.0848 - val_accuracy: 0.9746\n",
            "Epoch 10/10\n",
            "240/240 - 1s - loss: 0.0311 - accuracy: 0.9921 - val_loss: 0.0823 - val_accuracy: 0.9766\n"
          ],
          "name": "stdout"
        },
        {
          "output_type": "execute_result",
          "data": {
            "text/plain": [
              "<tensorflow.python.keras.callbacks.History at 0x7f6a9b7b7dd8>"
            ]
          },
          "metadata": {
            "tags": []
          },
          "execution_count": 7
        }
      ]
    },
    {
      "cell_type": "code",
      "metadata": {
        "id": "Kr2Gu8Lz8iRo",
        "colab_type": "code",
        "colab": {
          "base_uri": "https://localhost:8080/",
          "height": 68
        },
        "outputId": "9f9f821f-3305-4a69-c96c-ebc1f2d29b68"
      },
      "source": [
        "scores = model.evaluate(test_feature_normalize, test_label_onehot)  #評估準確率\n",
        "print('\\n準確率=',scores[1])"
      ],
      "execution_count": 8,
      "outputs": [
        {
          "output_type": "stream",
          "text": [
            "313/313 [==============================] - 1s 2ms/step - loss: 0.0728 - accuracy: 0.9773\n",
            "\n",
            "準確率= 0.9772999882698059\n"
          ],
          "name": "stdout"
        }
      ]
    },
    {
      "cell_type": "code",
      "metadata": {
        "id": "Kr3J9VCA8ial",
        "colab_type": "code",
        "colab": {
          "base_uri": "https://localhost:8080/",
          "height": 34
        },
        "outputId": "f6764d8e-92f4-43f3-fea3-e21b9a9ea6f7"
      },
      "source": [
        "model.save('Mnist_mlp_model.h5')\n",
        "print(\"Mnist_mlp_model.h5 模型儲存完畢!\")"
      ],
      "execution_count": 9,
      "outputs": [
        {
          "output_type": "stream",
          "text": [
            "Mnist_mlp_model.h5 模型儲存完畢!\n"
          ],
          "name": "stdout"
        }
      ]
    }
  ]
}