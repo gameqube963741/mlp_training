{
  "nbformat": 4,
  "nbformat_minor": 0,
  "metadata": {
    "colab": {
      "name": "Mnist1.ipynb",
      "provenance": [],
      "collapsed_sections": [],
      "authorship_tag": "ABX9TyOSxbqMsaEcipn6ox8/MsLt",
      "include_colab_link": true
    },
    "kernelspec": {
      "name": "python3",
      "display_name": "Python 3"
    }
  },
  "cells": [
    {
      "cell_type": "markdown",
      "metadata": {
        "id": "view-in-github",
        "colab_type": "text"
      },
      "source": [
        "<a href=\"https://colab.research.google.com/github/gameqube963741/mlp_training/blob/master/Mnist1.ipynb\" target=\"_parent\"><img src=\"https://colab.research.google.com/assets/colab-badge.svg\" alt=\"Open In Colab\"/></a>"
      ]
    },
    {
      "cell_type": "code",
      "metadata": {
        "id": "a_554BtQ6VJz",
        "colab_type": "code",
        "colab": {}
      },
      "source": [
        "import numpy as np\n",
        "from keras.utils import np_utils\n",
        "np.random.seed(10)\n",
        "from keras.datasets import mnist\n",
        "from keras.models import Sequential\n",
        "from keras.layers import Dense"
      ],
      "execution_count": 1,
      "outputs": []
    },
    {
      "cell_type": "code",
      "metadata": {
        "id": "U7xGzC6N6hqT",
        "colab_type": "code",
        "colab": {
          "base_uri": "https://localhost:8080/",
          "height": 51
        },
        "outputId": "9b1a4fc1-b427-424a-88c9-13bbffc0dc01"
      },
      "source": [
        "(train_feature, train_label), (test_feature, test_label) = mnist.load_data()\n",
        "train_feature_vector =train_feature.reshape(len(train_feature), 784).astype('float32')\n",
        "test_feature_vector = test_feature.reshape(len( test_feature), 784).astype('float32')\n",
        "train_feature_normalize = train_feature_vector/255\n",
        "test_feature_normalize = test_feature_vector/255\n",
        "train_label_onehot = np_utils.to_categorical(train_label)\n",
        "test_label_onehot = np_utils.to_categorical(test_label)"
      ],
      "execution_count": 2,
      "outputs": [
        {
          "output_type": "stream",
          "text": [
            "Downloading data from https://storage.googleapis.com/tensorflow/tf-keras-datasets/mnist.npz\n",
            "11493376/11490434 [==============================] - 0s 0us/step\n"
          ],
          "name": "stdout"
        }
      ]
    },
    {
      "cell_type": "code",
      "metadata": {
        "id": "fy7hhcL56ht-",
        "colab_type": "code",
        "colab": {}
      },
      "source": [
        "model = Sequential()  #建立模型"
      ],
      "execution_count": 3,
      "outputs": []
    },
    {
      "cell_type": "code",
      "metadata": {
        "id": "6J9c_GYj6h4g",
        "colab_type": "code",
        "colab": {}
      },
      "source": [
        "model.add(Dense(units=256,  #輸入層：784, 隱藏層：256\n",
        "                input_dim=784, \n",
        "                kernel_initializer='normal', \n",
        "                activation='relu')) "
      ],
      "execution_count": 4,
      "outputs": []
    },
    {
      "cell_type": "code",
      "metadata": {
        "id": "mIhqwGEs6pPH",
        "colab_type": "code",
        "colab": {}
      },
      "source": [
        "model.add(Dense(units=10,  #輸出層：10\n",
        "                kernel_initializer='normal', \n",
        "                activation='softmax'))"
      ],
      "execution_count": 5,
      "outputs": []
    },
    {
      "cell_type": "code",
      "metadata": {
        "id": "GXbhVfvS6ocH",
        "colab_type": "code",
        "colab": {}
      },
      "source": [
        "model.compile(loss='categorical_crossentropy', \n",
        "              optimizer='adam', metrics=['accuracy'])"
      ],
      "execution_count": 6,
      "outputs": []
    },
    {
      "cell_type": "code",
      "metadata": {
        "id": "4aHTzhhc6pSH",
        "colab_type": "code",
        "colab": {
          "base_uri": "https://localhost:8080/",
          "height": 374
        },
        "outputId": "023b63b7-1120-40f3-bb38-3d4ee7ac90cb"
      },
      "source": [
        "model.fit(x=train_feature_normalize, y=train_label_onehot,\n",
        "          validation_split=0.2, epochs=10, batch_size=200,verbose=2)"
      ],
      "execution_count": 7,
      "outputs": [
        {
          "output_type": "stream",
          "text": [
            "Epoch 1/10\n",
            "240/240 - 1s - loss: 0.4431 - accuracy: 0.8805 - val_loss: 0.2258 - val_accuracy: 0.9376\n",
            "Epoch 2/10\n",
            "240/240 - 1s - loss: 0.1960 - accuracy: 0.9431 - val_loss: 0.1604 - val_accuracy: 0.9545\n",
            "Epoch 3/10\n",
            "240/240 - 1s - loss: 0.1388 - accuracy: 0.9604 - val_loss: 0.1294 - val_accuracy: 0.9634\n",
            "Epoch 4/10\n",
            "240/240 - 1s - loss: 0.1058 - accuracy: 0.9694 - val_loss: 0.1115 - val_accuracy: 0.9675\n",
            "Epoch 5/10\n",
            "240/240 - 1s - loss: 0.0835 - accuracy: 0.9763 - val_loss: 0.1000 - val_accuracy: 0.9704\n",
            "Epoch 6/10\n",
            "240/240 - 1s - loss: 0.0678 - accuracy: 0.9810 - val_loss: 0.0923 - val_accuracy: 0.9734\n",
            "Epoch 7/10\n",
            "240/240 - 1s - loss: 0.0557 - accuracy: 0.9844 - val_loss: 0.0858 - val_accuracy: 0.9742\n",
            "Epoch 8/10\n",
            "240/240 - 1s - loss: 0.0468 - accuracy: 0.9870 - val_loss: 0.0832 - val_accuracy: 0.9744\n",
            "Epoch 9/10\n",
            "240/240 - 1s - loss: 0.0387 - accuracy: 0.9900 - val_loss: 0.0796 - val_accuracy: 0.9758\n",
            "Epoch 10/10\n",
            "240/240 - 1s - loss: 0.0327 - accuracy: 0.9912 - val_loss: 0.0775 - val_accuracy: 0.9773\n"
          ],
          "name": "stdout"
        },
        {
          "output_type": "execute_result",
          "data": {
            "text/plain": [
              "<tensorflow.python.keras.callbacks.History at 0x7f2e671d2dd8>"
            ]
          },
          "metadata": {
            "tags": []
          },
          "execution_count": 7
        }
      ]
    },
    {
      "cell_type": "code",
      "metadata": {
        "id": "9kJBTXHK6pUn",
        "colab_type": "code",
        "colab": {
          "base_uri": "https://localhost:8080/",
          "height": 68
        },
        "outputId": "d0a135b4-d86b-48e0-ccc4-16c21fa0737f"
      },
      "source": [
        "scores = model.evaluate(test_feature_normalize, test_label_onehot)  #評估準確率\n",
        "print('\\n準確率=',scores[1])"
      ],
      "execution_count": 8,
      "outputs": [
        {
          "output_type": "stream",
          "text": [
            "313/313 [==============================] - 1s 2ms/step - loss: 0.0704 - accuracy: 0.9779\n",
            "\n",
            "準確率= 0.9779000282287598\n"
          ],
          "name": "stdout"
        }
      ]
    }
  ]
}