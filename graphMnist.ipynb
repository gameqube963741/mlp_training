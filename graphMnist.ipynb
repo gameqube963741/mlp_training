{
  "nbformat": 4,
  "nbformat_minor": 0,
  "metadata": {
    "colab": {
      "name": "graphMnist.ipynb",
      "provenance": [],
      "collapsed_sections": [],
      "authorship_tag": "ABX9TyO7EV+bXo5yWke907ptetkP",
      "include_colab_link": true
    },
    "kernelspec": {
      "name": "python3",
      "display_name": "Python 3"
    }
  },
  "cells": [
    {
      "cell_type": "markdown",
      "metadata": {
        "id": "view-in-github",
        "colab_type": "text"
      },
      "source": [
        "<a href=\"https://colab.research.google.com/github/gameqube963741/mlp_training/blob/master/graphMnist.ipynb\" target=\"_parent\"><img src=\"https://colab.research.google.com/assets/colab-badge.svg\" alt=\"Open In Colab\"/></a>"
      ]
    },
    {
      "cell_type": "code",
      "metadata": {
        "id": "UF9iH2VX4cfo",
        "colab_type": "code",
        "colab": {}
      },
      "source": [
        "import matplotlib.pyplot as plt\n",
        "from keras.datasets import mnist\n",
        "(train_feature, train_label), (test_feature, test_label) = mnist.load_data()"
      ],
      "execution_count": null,
      "outputs": []
    },
    {
      "cell_type": "code",
      "metadata": {
        "id": "ZvU0CDmR4k83",
        "colab_type": "code",
        "colab": {}
      },
      "source": [
        "def show_images_labels_predictions(images,labels,start_id,num=10):\n",
        "    plt.gcf().set_size_inches(12, 14)\n",
        "    if num>25: num=25 \n",
        "    for i in range(num):\n",
        "        ax=plt.subplot(5,5, i+1)\n",
        "        ax.imshow(images[start_id], cmap='binary')  #顯示黑白圖片\n",
        "        title = 'label = ' + str(labels[start_id])\n",
        "        ax.set_title(title,fontsize=12)  # X,Y軸不顯示刻度\n",
        "        ax.set_xticks([]);ax.set_yticks([])        \n",
        "        start_id+=1 \n",
        "    plt.show()\n",
        "    show_images_labels_predictions(train_feature,train_label,0,10)"
      ],
      "execution_count": 5,
      "outputs": []
    },
    {
      "cell_type": "code",
      "metadata": {
        "id": "GRKLZDe14qpi",
        "colab_type": "code",
        "colab": {}
      },
      "source": [
        ""
      ],
      "execution_count": null,
      "outputs": []
    }
  ]
}